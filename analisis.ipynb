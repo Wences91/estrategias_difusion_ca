{
 "cells": [
  {
   "cell_type": "code",
   "execution_count": 1,
   "metadata": {},
   "outputs": [
    {
     "data": {
      "text/plain": [
       "'1.0.3'"
      ]
     },
     "execution_count": 1,
     "metadata": {},
     "output_type": "execute_result"
    }
   ],
   "source": [
    "import pandas as pd\n",
    "pd.__version__"
   ]
  },
  {
   "cell_type": "code",
   "execution_count": 2,
   "metadata": {},
   "outputs": [
    {
     "data": {
      "text/html": [
       "<div>\n",
       "<style scoped>\n",
       "    .dataframe tbody tr th:only-of-type {\n",
       "        vertical-align: middle;\n",
       "    }\n",
       "\n",
       "    .dataframe tbody tr th {\n",
       "        vertical-align: top;\n",
       "    }\n",
       "\n",
       "    .dataframe thead th {\n",
       "        text-align: right;\n",
       "    }\n",
       "</style>\n",
       "<table border=\"1\" class=\"dataframe\">\n",
       "  <thead>\n",
       "    <tr style=\"text-align: right;\">\n",
       "      <th></th>\n",
       "      <th>name</th>\n",
       "      <th>popularity</th>\n",
       "      <th>artists</th>\n",
       "      <th>energy</th>\n",
       "      <th>instrumentalness</th>\n",
       "    </tr>\n",
       "  </thead>\n",
       "  <tbody>\n",
       "    <tr>\n",
       "      <th>0</th>\n",
       "      <td>Nobody Knows You When You're Down and Out</td>\n",
       "      <td>41</td>\n",
       "      <td>['Bessie Smith']</td>\n",
       "      <td>0.0423</td>\n",
       "      <td>0.002930</td>\n",
       "    </tr>\n",
       "    <tr>\n",
       "      <th>1</th>\n",
       "      <td>Weather Bird</td>\n",
       "      <td>38</td>\n",
       "      <td>['Louis Armstrong', 'Earl Hines']</td>\n",
       "      <td>0.2620</td>\n",
       "      <td>0.912000</td>\n",
       "    </tr>\n",
       "    <tr>\n",
       "      <th>2</th>\n",
       "      <td>'Tain't Nobody's Bizness If I Do</td>\n",
       "      <td>30</td>\n",
       "      <td>['Bessie Smith']</td>\n",
       "      <td>0.0443</td>\n",
       "      <td>0.000265</td>\n",
       "    </tr>\n",
       "    <tr>\n",
       "      <th>3</th>\n",
       "      <td>Ain't Misbehavin'</td>\n",
       "      <td>28</td>\n",
       "      <td>['Louis Armstrong']</td>\n",
       "      <td>0.2540</td>\n",
       "      <td>0.002170</td>\n",
       "    </tr>\n",
       "    <tr>\n",
       "      <th>4</th>\n",
       "      <td>Empty Bed Blues, Pt. 1</td>\n",
       "      <td>27</td>\n",
       "      <td>['Bessie Smith']</td>\n",
       "      <td>0.0620</td>\n",
       "      <td>0.003410</td>\n",
       "    </tr>\n",
       "    <tr>\n",
       "      <th>...</th>\n",
       "      <td>...</td>\n",
       "      <td>...</td>\n",
       "      <td>...</td>\n",
       "      <td>...</td>\n",
       "      <td>...</td>\n",
       "    </tr>\n",
       "    <tr>\n",
       "      <th>423698</th>\n",
       "      <td>云与海</td>\n",
       "      <td>50</td>\n",
       "      <td>['阿YueYue']</td>\n",
       "      <td>0.5180</td>\n",
       "      <td>0.000000</td>\n",
       "    </tr>\n",
       "    <tr>\n",
       "      <th>423699</th>\n",
       "      <td>blind</td>\n",
       "      <td>72</td>\n",
       "      <td>['ROLE MODEL']</td>\n",
       "      <td>0.6630</td>\n",
       "      <td>0.000297</td>\n",
       "    </tr>\n",
       "    <tr>\n",
       "      <th>423700</th>\n",
       "      <td>What They'll Say About Us</td>\n",
       "      <td>70</td>\n",
       "      <td>['FINNEAS']</td>\n",
       "      <td>0.3140</td>\n",
       "      <td>0.000150</td>\n",
       "    </tr>\n",
       "    <tr>\n",
       "      <th>423701</th>\n",
       "      <td>A Day At A Time</td>\n",
       "      <td>58</td>\n",
       "      <td>['Gentle Bones', 'Clara Benin']</td>\n",
       "      <td>0.6150</td>\n",
       "      <td>0.000003</td>\n",
       "    </tr>\n",
       "    <tr>\n",
       "      <th>423702</th>\n",
       "      <td>Mar de Emociones</td>\n",
       "      <td>38</td>\n",
       "      <td>['Afrosound']</td>\n",
       "      <td>0.7230</td>\n",
       "      <td>0.000000</td>\n",
       "    </tr>\n",
       "  </tbody>\n",
       "</table>\n",
       "<p>423703 rows × 5 columns</p>\n",
       "</div>"
      ],
      "text/plain": [
       "                                             name  popularity  \\\n",
       "0       Nobody Knows You When You're Down and Out          41   \n",
       "1                                    Weather Bird          38   \n",
       "2                'Tain't Nobody's Bizness If I Do          30   \n",
       "3                               Ain't Misbehavin'          28   \n",
       "4                          Empty Bed Blues, Pt. 1          27   \n",
       "...                                           ...         ...   \n",
       "423698                                        云与海          50   \n",
       "423699                                      blind          72   \n",
       "423700                  What They'll Say About Us          70   \n",
       "423701                            A Day At A Time          58   \n",
       "423702                           Mar de Emociones          38   \n",
       "\n",
       "                                  artists  energy  instrumentalness  \n",
       "0                        ['Bessie Smith']  0.0423          0.002930  \n",
       "1       ['Louis Armstrong', 'Earl Hines']  0.2620          0.912000  \n",
       "2                        ['Bessie Smith']  0.0443          0.000265  \n",
       "3                     ['Louis Armstrong']  0.2540          0.002170  \n",
       "4                        ['Bessie Smith']  0.0620          0.003410  \n",
       "...                                   ...     ...               ...  \n",
       "423698                        ['阿YueYue']  0.5180          0.000000  \n",
       "423699                     ['ROLE MODEL']  0.6630          0.000297  \n",
       "423700                        ['FINNEAS']  0.3140          0.000150  \n",
       "423701    ['Gentle Bones', 'Clara Benin']  0.6150          0.000003  \n",
       "423702                      ['Afrosound']  0.7230          0.000000  \n",
       "\n",
       "[423703 rows x 5 columns]"
      ]
     },
     "execution_count": 2,
     "metadata": {},
     "output_type": "execute_result"
    }
   ],
   "source": [
    "df = pd.read_csv('data/tracks.tsv', sep='\\t', encoding='utf8')\n",
    "df"
   ]
  },
  {
   "cell_type": "code",
   "execution_count": 8,
   "metadata": {},
   "outputs": [
    {
     "data": {
      "text/plain": [
       "<matplotlib.axes._subplots.AxesSubplot at 0x128012f98>"
      ]
     },
     "execution_count": 8,
     "metadata": {},
     "output_type": "execute_result"
    },
    {
     "data": {
      "image/png": "[encoded data removed]",
      "text/plain": [
       "<Figure size 432x288 with 1 Axes>"
      ]
     },
     "metadata": {
      "needs_background": "light"
     },
     "output_type": "display_data"
    }
   ],
   "source": [
    "df[df['artists']==\"['Los Planetas']\"][['name','popularity']].plot.barh(x='name')"
   ]
  },
  {
   "cell_type": "code",
   "execution_count": null,
   "metadata": {},
   "outputs": [],
   "source": [
    "df[df['artists']==\"['Los Planetas']\"][['name','popularity']].plot.barh(x='name')"
   ]
  },
  {
   "cell_type": "code",
   "execution_count": null,
   "metadata": {},
   "outputs": [],
   "source": []
  },
  {
   "cell_type": "code",
   "execution_count": null,
   "metadata": {},
   "outputs": [],
   "source": []
  },
  {
   "cell_type": "code",
   "execution_count": null,
   "metadata": {},
   "outputs": [],
   "source": []
  },
  {
   "cell_type": "code",
   "execution_count": null,
   "metadata": {},
   "outputs": [],
   "source": []
  },
  {
   "cell_type": "code",
   "execution_count": null,
   "metadata": {},
   "outputs": [],
   "source": []
  }
 ],
 "metadata": {
  "kernelspec": {
   "display_name": "Python 3",
   "language": "python",
   "name": "python3"
  },
  "language_info": {
   "codemirror_mode": {
    "name": "ipython",
    "version": 3
   },
   "file_extension": ".py",
   "mimetype": "text/x-python",
   "name": "python",
   "nbconvert_exporter": "python",
   "pygments_lexer": "ipython3",
   "version": "3.7.3"
  }
 },
 "nbformat": 4,
 "nbformat_minor": 4
}
